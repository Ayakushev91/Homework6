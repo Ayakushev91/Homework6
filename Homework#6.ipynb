{
 "cells": [
  {
   "cell_type": "code",
   "execution_count": 45,
   "metadata": {
    "scrolled": false
   },
   "outputs": [],
   "source": [
    "import os\n",
    "import json\n",
    "purchases={}\n",
    "with open('purchase_log.txt', encoding='utf-8') as f :\n",
    "    for line in f:\n",
    "        line = line.strip()\n",
    "        dict_ = json.loads(line)\n",
    "        key = dict_['user_id']\n",
    "        value = dict_['category']\n",
    "        if key != 'user_id':\n",
    "            purchases.setdefault(key,value)\n",
    "f.close()\n",
    "\n",
    "with open('visit_log.csv', 'r') as visit, open('funnel.csv', 'w') as w_visit:\n",
    "    for row in visit:\n",
    "        line_list = row.strip().split(',')\n",
    "        category = purchases.get(line_list[0])\n",
    "        if category != None:\n",
    "            line_list.append(category)\n",
    "            add_line = ','.join(line_list) + '\\n'\n",
    "            w_visit.write(add_line)\n",
    "visit.close()\n",
    "w_visit.close()"
   ]
  }
 ],
 "metadata": {
  "kernelspec": {
   "display_name": "Python 3",
   "language": "python",
   "name": "python3"
  },
  "language_info": {
   "codemirror_mode": {
    "name": "ipython",
    "version": 3
   },
   "file_extension": ".py",
   "mimetype": "text/x-python",
   "name": "python",
   "nbconvert_exporter": "python",
   "pygments_lexer": "ipython3",
   "version": "3.8.5"
  }
 },
 "nbformat": 4,
 "nbformat_minor": 4
}
